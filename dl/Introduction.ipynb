{
 "cells": [
  {
   "cell_type": "markdown",
   "metadata": {},
   "source": [
    "### Week2\n",
    "#### Topics\n",
    "* How to avoid for loops in python programming for neural networks ?\n",
    "* What is forward propogation and back propgation ?\n",
    "* Understanding forward and backward propogation using logistic regression\n",
    "* Understanding derivatives and computation graph\n",
    "* Understanding a simple neural network using derivatives and computation graph\n",
    "#### Binary classification\n",
    "Given an input image of cat, the ability to determin if its a cat (1) or not cat(0) is an example of binary classification. Any image is composed of Red(R), Blue(B), Green(G) and the intensity of these values can be defined as vectors. \n",
    "\n",
    "![](https://raw.githubusercontent.com/ivonnics/Machine-Learning/master/Tabla%20Confussion%20Matrix.png)\n",
    "\n",
    "A typical 64(height)x64(width) image, then has 3x64x64 values. These values can be represented as matrices.\n",
    "\n",
    "$$\\begin{bmatrix} 3 & 4 & 5 \\\\ 6 & 7 & 9 \\\\ 4 & 5 & 122 \\end{bmatrix}$$\n",
    "$$\\begin{bmatrix} 1 & 2 & 1 \\\\ 3 & 0 & 1 \\\\ 0 & 2 & 4 \\end{bmatrix}$$"
   ]
  }
 ],
 "metadata": {
  "kernelspec": {
   "display_name": "Python 3.10.4 ('.env')",
   "language": "python",
   "name": "python3"
  },
  "language_info": {
   "name": "python",
   "version": "3.10.4"
  },
  "orig_nbformat": 4,
  "vscode": {
   "interpreter": {
    "hash": "2f0999b1cdd7c395e601753a08fdfd7408b3bf1d740d023fb98991b9e5e58435"
   }
  }
 },
 "nbformat": 4,
 "nbformat_minor": 2
}
