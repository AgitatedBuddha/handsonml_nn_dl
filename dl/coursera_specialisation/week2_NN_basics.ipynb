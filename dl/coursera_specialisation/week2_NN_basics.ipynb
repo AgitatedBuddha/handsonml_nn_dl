{
 "cells": [
  {
   "cell_type": "markdown",
   "metadata": {},
   "source": [
    "### Week2 - Neural Network Basics\n",
    "#### Topics\n",
    "* How to avoid for loops in python programming for neural networks ?\n",
    "* What is forward propogation and back propgation ?\n",
    "* Understanding forward and backward propogation using logistic regression\n",
    "* Understanding derivatives and computation graph\n",
    "* Understanding a simple neural network using derivatives and computation graph\n",
    "#### Logistic regression as neural network\n",
    "##### Binary classification\n",
    "Given an input image of cat, the ability to determin if its a cat (1) or not cat(0) is an example of binary classification. Logistic regression is one of the algorithms for binary classification\n",
    "\n",
    "Any image is composed of Red(R), Blue(B), Green(G) and the intensity of these values can be defined as vectors. Refer example below\n",
    "\n",
    "![](https://raw.githubusercontent.com/AgitatedBuddha/handsonml_nn_dl/main/dl/images/RGB.png)\n",
    "\n",
    "A typical 64(height)x64(width) image, then has 3x64x64 values. These values can be represented as matrices. This is the input given to the alogrithm and is called as feature vector, denoted by X. Dimension of input feature vector X denoted by $N_x$, in this example $N_x$ = 64 * 64 * 3 = 12288. The output is denoted by Y and for binary classification its usually 0 or 1.  \n",
    "\n",
    "**Notation 1** \\\n",
    "$X \\in N_x$ and $Y \\in \\{0,1\\}$\n",
    "\n",
    "**Notation 2** \\\n",
    "Input data is divided into training and test samples. Training data samples are denoted by *m* .These can be refered as $ m_{train} $ and also as $m_{test}$. A set consist of both input and output \\\n",
    "$ m_{train} = {(x^{(1)},y^{(1)}), (x^{(2)},y^{(2)}) ... , (x^{(m)},y^{(m)})} $ \n",
    "\n",
    "**Notation 3** \\\n",
    "All training examples are represented via the following matrix notations\n",
    "$$ X = \\begin{bmatrix} | & | & | & .. & | \\\\  .. & .. & .. & .. & .. \\\\ x^{(1)} & x^{(2)} & .. & .. & x^{(m)} \\\\ .. & .. & .. & ..& .. \\\\ | & | & | & .. & | \\end{bmatrix} ; \\ \\ \\ Y = \\begin{bmatrix} y^{(1)} & y^{(2)} & .. & y^{(m)} \\end{bmatrix}$$\n",
    "\n",
    "X.shape = $N_x * m $ and Y.shape = $1 * m $"
   ]
  }
 ],
 "metadata": {
  "kernelspec": {
   "display_name": "Python 3.10.4 ('.env')",
   "language": "python",
   "name": "python3"
  },
  "language_info": {
   "name": "python",
   "version": "3.10.4"
  },
  "orig_nbformat": 4,
  "vscode": {
   "interpreter": {
    "hash": "2f0999b1cdd7c395e601753a08fdfd7408b3bf1d740d023fb98991b9e5e58435"
   }
  }
 },
 "nbformat": 4,
 "nbformat_minor": 2
}
