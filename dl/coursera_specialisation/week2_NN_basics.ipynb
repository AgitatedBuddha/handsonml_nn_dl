{
 "cells": [
  {
   "cell_type": "markdown",
   "metadata": {},
   "source": [
    "## Week2 - Neural Network Basics\n",
    "### Topics\n",
    "* How to avoid for loops in python programming for neural networks ?\n",
    "* What is forward propogation and back propgation ?\n",
    "* Understanding forward and backward propogation using logistic regression\n",
    "* Understanding derivatives and computation graph\n",
    "* Understanding a simple neural network using derivatives and computation graph"
   ]
  },
  {
   "cell_type": "markdown",
   "metadata": {},
   "source": [
    "#### Logistic regression as neural network"
   ]
  },
  {
   "cell_type": "markdown",
   "metadata": {},
   "source": [
    "##### Binary classification\n",
    "Given an input image of cat, the ability to determine if its a cat (1) or not cat(0) is an example of binary classification. Logistic regression is one of the algorithms for binary classification\n",
    "\n",
    "Any image is composed of Red(R), Blue(B), Green(G) and the intensity of these values can be defined as vectors. Refer example below\n",
    "\n",
    "![](https://raw.githubusercontent.com/AgitatedBuddha/handsonml_nn_dl/main/dl/images/RGB.png)\n",
    "\n",
    "A typical 64(height)x64(width) image, then has 3x64x64 values. These values can be represented as matrices. This is the input given to the alogrithm and is called as feature vector, denoted by X. Dimension of input feature vector X denoted by $N_x$, in this example $N_x$ = 64 * 64 * 3 = 12288. The output is denoted by Y and for binary classification its usually 0 or 1. "
   ]
  },
  {
   "cell_type": "markdown",
   "metadata": {},
   "source": [
    "**Notation 1** <br>\n",
    "\\begin{align}\n",
    "X &\\in N_x  \\\\\n",
    "Y &\\in \\{0,1\\}\n",
    "\\end{align}\n",
    "\n",
    "**Notation 2** <br>\n",
    "Input data is divided into training and test samples. Training data samples are denoted by *m* .These can be refered as m_{train} and also as m_{test}. A set consist of both input and output\n",
    "\\begin{align}\n",
    "m_{train} = {(x^{(1)},y^{(1)}), (x^{(2)},y^{(2)}) ... , (x^{(m)},y^{(m)})}\n",
    "\\end{align}\n",
    "\n",
    "**Notation 3** <br>\n",
    "All training examples are represented via the following matrix notations\n",
    "$$ X = \\begin{bmatrix} | & | & | & .. & | \\\\  .. & .. & .. & .. & .. \\\\ x^{(1)} & x^{(2)} & .. & .. & x^{(m)} \\\\ .. & .. & .. & ..& .. \\\\ | & | & | & .. & | \\end{bmatrix} ; \\ \\ \\ Y = \\begin{bmatrix} y^{(1)} & y^{(2)} & .. & y^{(m)} \\end{bmatrix}$$\n",
    "\n",
    "Python commands : X.shape = $(N_x, m)$ i.e $N_x$ rows and m columns $ and Y.shape = (1,m) i.e 1 row and m columns"
   ]
  },
  {
   "cell_type": "markdown",
   "metadata": {},
   "source": [
    "##### Logistic Regression\n",
    "Given x as input, the logistic regression predicts $\\hat{y}$. $\\hat{y}$ is the probability of y=1 given x i.e $\\hat{y} = P(y=1|x)$. The parameters that help us in determining $\\hat{y}$ and *w* and *b* . In Binary classification $ 0 <= \\hat{y} <= 1 $, but what if the values of w and b are high, so we use a non-linear function called sigmoid function.<br>\n",
    "\n",
    "Sigmoid function\n",
    "\\begin{align}\n",
    "\\sigma = \\frac{1}{1+e^{(-z)}}\n",
    "\\end{align}\n",
    "\n",
    "Now, the equation is given as \n",
    "\\begin{align}\n",
    "\\hat{y} = \\sigma (W^t . x + b) \\ or \\ \\hat{y} = \\sigma (z) , where \\ z = (W^t . x + b)\n",
    "\\end{align}"
   ]
  },
  {
   "cell_type": "code",
   "execution_count": 21,
   "metadata": {},
   "outputs": [
    {
     "data": {
      "image/png": "[encoded data removed]",
      "text/plain": [
       "<Figure size 720x360 with 1 Axes>"
      ]
     },
     "metadata": {
      "needs_background": "light"
     },
     "output_type": "display_data"
    }
   ],
   "source": [
    "# simple code to plot sigmoid function\n",
    "import matplotlib.pyplot as plt\n",
    "import math\n",
    "\n",
    "def sigmoid(x):\n",
    "  return 1/(1 + math.exp(-x))\n",
    "\n",
    "x=[-10, -8 , -7.5, -5, 0, 5, 7.5, 8, 10]\n",
    "y = []\n",
    "for item in x:\n",
    "    y.append(sigmoid(item))\n",
    "\n",
    "plt.figure(figsize=(10,5))\n",
    "plt.plot(x,y)\n",
    "plt.xlabel(x, fontsize = 10)\n",
    "plt.show()"
   ]
  },
  {
   "cell_type": "markdown",
   "metadata": {},
   "source": [
    "##### Logistic Regression Cost function\n",
    "\n",
    "##### What is loss function ?\n",
    "Logistic regression aims to predict and keep $\\hat{y}$ as close to y as possible. The gap between this predicted and actual value for $i^{(th)}$ sample is called loss.<br><br>\n",
    "For a given <br>\n",
    "$((x^{(1)},y^{(1)}),(x^{(2)},y^{(2)})...(x^{(m)},y^{(m)}))$ we want $\\hat{y}^{(i)} =~ y^{(i)}$. We achieve the same by keeping i.e $L(\\hat{y},y)$ to the minimum.<br><br>\n",
    "Loss function is defined as \n",
    "\\begin{align}\n",
    "L(\\hat{y},y) = - ( y \\,\\, log\\,\\hat{y} +  (1 - y) \\,\\, log (1 - \\hat{y}) )\n",
    "\\end{align}\n",
    "\n",
    "The simple intuition behind the above formula is, <br>\n",
    "If y=1 , then $L(\\hat{y},y) = -y \\,\\, log \\hat{y}$ ; Loss must be as small as possible, meaning $log\\,\\hat{y}$ or $\\hat{y}$ must be very large. Since we have a sigmoid function the largest value $\\hat{y}$ can have is close to 1; there by $\\hat{y}$ =~ y <br><br>\n",
    "If y=0 , then $L(\\hat{y},y) = - log (1 - \\hat{y})$ ; Loss must be as small as possible, meaning $log (1 - \\hat{y})$ must be very large or $\\hat{y}$ must be small. Since we have a sigmoid function the smallest value $\\hat{y}$ can have is close to 0; there by $\\hat{y}$ =~ y\n",
    "\n",
    "##### What is cost function ?\n",
    "The sum of all losses over m samples is the cost we pay for the algorithm for being inaccurate and is usually denoted by J\n",
    "\\begin{align}\n",
    "J( w, b ) = \\frac{1}{m} \\sum_{j=1}^{m} L(\\hat{y}^{(i)},y^{(i)})\n",
    "\\,\\,\\,= - \\frac{1}{m} \\sum_{j=1}^{m} ( y^{(i)} \\,\\,\\, log \\,\\hat{y}^{(i)} +  (1 - y^{(i)}) \\,\\,\\, log (1 - \\hat{y}^{(i)}) )\n",
    "\\end{align}"
   ]
  }
 ],
 "metadata": {
  "kernelspec": {
   "display_name": "Python 3.10.4 ('.env': venv)",
   "language": "python",
   "name": "python3"
  },
  "language_info": {
   "name": "python",
   "version": "3.10.4"
  },
  "orig_nbformat": 4,
  "vscode": {
   "interpreter": {
    "hash": "4d3448080e8271cf7fa33d9ab0c40fc43e3c28216dcd0cda2b20622e7c7c7b54"
   }
  }
 },
 "nbformat": 4,
 "nbformat_minor": 2
}
