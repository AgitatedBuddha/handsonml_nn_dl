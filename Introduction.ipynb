{
  "nbformat": 4,
  "nbformat_minor": 0,
  "metadata": {
    "colab": {
      "name": "Introduction.ipynb",
      "provenance": [],
      "authorship_tag": "ABX9TyOlam4no7eVL2VyfizO/7/n",
      "include_colab_link": true
    },
    "kernelspec": {
      "name": "python3",
      "display_name": "Python 3"
    },
    "language_info": {
      "name": "python"
    }
  },
  "cells": [
    {
      "cell_type": "markdown",
      "metadata": {
        "id": "view-in-github",
        "colab_type": "text"
      },
      "source": [
        "<a href=\"https://colab.research.google.com/github/AgitatedBuddha/handsonml_nn_dl/blob/main/Introduction.ipynb\" target=\"_parent\"><img src=\"https://colab.research.google.com/assets/colab-badge.svg\" alt=\"Open In Colab\"/></a>"
      ]
    },
    {
      "cell_type": "markdown",
      "source": [
        "# Terminology\n",
        "---\n",
        "## Supervised machine learning\n",
        "Google training video summaries it nicely as \"*Supervised ML systems learn how to combine input to produce useful predictions on never-before-seen data*\". Simple examples: Predicting price of a house, classifying an incoming mail as spam / not spam\n",
        "### Label\n",
        "Label is the thing we predict, it is the outcome or output. Usually denoted by *y*\n",
        "### Features\n",
        "Features are the inputs to the machine learning system. Usually denoted by *x* . Most ML systems take multiple inputs called feature sets and are typically denoted as \n",
        "> *x1, x2, x3 ... xn*\n",
        "### Model\n",
        "Model is the box that explains the relationship between features and label. A model is then used on never-before-seen data of features to predict the label\n",
        "### Examples\n",
        "Its an instance of data i.e x and y. There are two types of examples\n",
        "*   Labelled \n",
        "*   Unlabelled\n",
        "#### Labelled\n",
        "Labelled example is where the outcome is known i.e it has the features and label x and y. Its usually used to train the ML model\n",
        "#### Unlabelled\n",
        "Labelled example is where the outcome is not known i.e it has only features and the ML model predict the label or output or y.\n",
        "### Regression\n",
        "Regression is a supervised ML model, which predicts a continous output. Ex Price of a house, Probability of user action\n",
        "### Classificaiton\n",
        "Regression is a supervised ML model, which predicts a discrete output. Ex Is the mail spam or not ? Is the pic of a dog or cat ?\n",
        "\n"
      ],
      "metadata": {
        "id": "OVqP6_xjEhlx"
      }
    }
  ]
}